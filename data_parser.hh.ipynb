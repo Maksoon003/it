{
 "cells": [
  {
   "cell_type": "markdown",
   "id": "217536e8",
   "metadata": {},
   "source": [
    "# HH позволяет найти работу в России. Данный рекрутинговый ресурс обладает самой большой базой данных вакансий. HH делится удобным api."
   ]
  },
  {
   "cell_type": "code",
   "execution_count": 1,
   "id": "070c42ec",
   "metadata": {},
   "outputs": [],
   "source": [
    "import requests  #библиотека запросов\n",
    "import pandas as pd\n",
    "import matplotlib.pylab as plt\n",
    "\n",
    "number_of_pages = 100     #number_of_ads = number_of_pages * per_page\n",
    "\n",
    "job_title = [\"Data Analyst\"]\n",
    "for job in job_title:\n",
    "    data=[]\n",
    "    for i in range(number_of_pages):\n",
    "        url = 'https://api.hh.ru/vacancies'\n",
    "        par = {'text': job, 'area':'113','per_page':'10', 'page':i}\n",
    "        r = requests.get(url, params=par)\n",
    "        e=r.json()\n",
    "        data.append(e)\n",
    "        vacancy_details = data[0]['items'][0].keys()\n",
    "        df = pd.DataFrame(columns= list(vacancy_details))\n",
    "        ind = 0\n",
    "        for i in range(len(data)):\n",
    "            for j in range(len(data[i]['items'])):\n",
    "                df.loc[ind] = data[i]['items'][j]\n",
    "                ind+=1\n",
    "    csv_name = job+\".csv\"\n",
    "    df.to_csv(csv_name)"
   ]
  },
  {
   "cell_type": "code",
   "execution_count": null,
   "id": "702f533c",
   "metadata": {},
   "outputs": [],
   "source": [
    "Собранные таким образом объявления будут разделены на группы, \n",
    "в соответствии с информацией содержащейся в них или описанием их метаданных. \n",
    "Например: город; позиция; вилка зарплаты; категория вакансии. \n",
    "В этом случае одно объявление может принадлежать нескольким категориям."
   ]
  },
  {
   "cell_type": "raw",
   "id": "9f830a13",
   "metadata": {},
   "source": [
    "В итоге мы получили файл csv с названием указанным в job_title.\n",
    "В указанном будет загружен один файл с вакансиями с фразой  «Data Analyst»"
   ]
  }
 ],
 "metadata": {
  "kernelspec": {
   "display_name": "Python 3 (ipykernel)",
   "language": "python",
   "name": "python3"
  },
  "language_info": {
   "codemirror_mode": {
    "name": "ipython",
    "version": 3
   },
   "file_extension": ".py",
   "mimetype": "text/x-python",
   "name": "python",
   "nbconvert_exporter": "python",
   "pygments_lexer": "ipython3",
   "version": "3.10.4"
  }
 },
 "nbformat": 4,
 "nbformat_minor": 5
}
